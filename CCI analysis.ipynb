{
 "cells": [
  {
   "cell_type": "markdown",
   "metadata": {},
   "source": [
    "Code source:\n",
    "https://towardsdatascience.com/linear-regression-in-6-lines-of-python-5e1d0cd05b8d\n",
    "\n",
    "OLS regression summary:\n",
    "https://www.datarobot.com/blog/ordinary-least-squares-in-python/\n",
    "https://www.statsmodels.org/dev/generated/statsmodels.regression.linear_model.OLS.html"
   ]
  },
  {
   "cell_type": "code",
   "execution_count": 6,
   "metadata": {},
   "outputs": [
    {
     "data": {
      "text/html": [
       "<div>\n",
       "<style scoped>\n",
       "    .dataframe tbody tr th:only-of-type {\n",
       "        vertical-align: middle;\n",
       "    }\n",
       "\n",
       "    .dataframe tbody tr th {\n",
       "        vertical-align: top;\n",
       "    }\n",
       "\n",
       "    .dataframe thead th {\n",
       "        text-align: right;\n",
       "    }\n",
       "</style>\n",
       "<table border=\"1\" class=\"dataframe\">\n",
       "  <thead>\n",
       "    <tr style=\"text-align: right;\">\n",
       "      <th></th>\n",
       "      <th>Year</th>\n",
       "      <th>Quarter</th>\n",
       "      <th>CCI</th>\n",
       "      <th>HK mn</th>\n",
       "    </tr>\n",
       "  </thead>\n",
       "  <tbody>\n",
       "    <tr>\n",
       "      <th>0</th>\n",
       "      <td>1997</td>\n",
       "      <td>2</td>\n",
       "      <td>99.92</td>\n",
       "      <td>2871178</td>\n",
       "    </tr>\n",
       "    <tr>\n",
       "      <th>1</th>\n",
       "      <td>1997</td>\n",
       "      <td>3</td>\n",
       "      <td>98.13</td>\n",
       "      <td>2933342</td>\n",
       "    </tr>\n",
       "    <tr>\n",
       "      <th>2</th>\n",
       "      <td>1997</td>\n",
       "      <td>4</td>\n",
       "      <td>86.24</td>\n",
       "      <td>2871425</td>\n",
       "    </tr>\n",
       "    <tr>\n",
       "      <th>3</th>\n",
       "      <td>1998</td>\n",
       "      <td>1</td>\n",
       "      <td>74.96</td>\n",
       "      <td>2943150</td>\n",
       "    </tr>\n",
       "    <tr>\n",
       "      <th>4</th>\n",
       "      <td>1998</td>\n",
       "      <td>2</td>\n",
       "      <td>58.62</td>\n",
       "      <td>2908121</td>\n",
       "    </tr>\n",
       "    <tr>\n",
       "      <th>...</th>\n",
       "      <td>...</td>\n",
       "      <td>...</td>\n",
       "      <td>...</td>\n",
       "      <td>...</td>\n",
       "    </tr>\n",
       "    <tr>\n",
       "      <th>93</th>\n",
       "      <td>2020</td>\n",
       "      <td>3</td>\n",
       "      <td>174.40</td>\n",
       "      <td>15883405</td>\n",
       "    </tr>\n",
       "    <tr>\n",
       "      <th>94</th>\n",
       "      <td>2020</td>\n",
       "      <td>4</td>\n",
       "      <td>174.11</td>\n",
       "      <td>15644043</td>\n",
       "    </tr>\n",
       "    <tr>\n",
       "      <th>95</th>\n",
       "      <td>2021</td>\n",
       "      <td>1</td>\n",
       "      <td>177.49</td>\n",
       "      <td>15797352</td>\n",
       "    </tr>\n",
       "    <tr>\n",
       "      <th>96</th>\n",
       "      <td>2021</td>\n",
       "      <td>2</td>\n",
       "      <td>183.15</td>\n",
       "      <td>16270817</td>\n",
       "    </tr>\n",
       "    <tr>\n",
       "      <th>97</th>\n",
       "      <td>2021</td>\n",
       "      <td>3</td>\n",
       "      <td>185.62</td>\n",
       "      <td>16104828</td>\n",
       "    </tr>\n",
       "  </tbody>\n",
       "</table>\n",
       "<p>98 rows × 4 columns</p>\n",
       "</div>"
      ],
      "text/plain": [
       "    Year  Quarter     CCI     HK mn\n",
       "0   1997        2   99.92   2871178\n",
       "1   1997        3   98.13   2933342\n",
       "2   1997        4   86.24   2871425\n",
       "3   1998        1   74.96   2943150\n",
       "4   1998        2   58.62   2908121\n",
       "..   ...      ...     ...       ...\n",
       "93  2020        3  174.40  15883405\n",
       "94  2020        4  174.11  15644043\n",
       "95  2021        1  177.49  15797352\n",
       "96  2021        2  183.15  16270817\n",
       "97  2021        3  185.62  16104828\n",
       "\n",
       "[98 rows x 4 columns]"
      ]
     },
     "execution_count": 6,
     "metadata": {},
     "output_type": "execute_result"
    }
   ],
   "source": [
    "import pandas as pd\n",
    "CCI_HKM3=pd.read_csv('HK CCI vs M3.csv')       #change: pd.read_excel for .xlsx file\n",
    "CCI_HKM3"
   ]
  },
  {
   "cell_type": "code",
   "execution_count": 7,
   "metadata": {
    "collapsed": true
   },
   "outputs": [
    {
     "name": "stdout",
     "output_type": "stream",
     "text": [
      "Year          1997.00\n",
      "Quarter          2.00\n",
      "CCI             99.92\n",
      "HK mn      2871178.00\n",
      "Name: 0, dtype: float64\n"
     ]
    }
   ],
   "source": [
    "import pandas as pd\n",
    "import numpy as np\n",
    "df=pd.read_csv('HK CCI vs M3.csv')\n",
    "print(df.iloc[0]) #print row_0, the 1 st row"
   ]
  },
  {
   "cell_type": "code",
   "execution_count": 8,
   "metadata": {
    "collapsed": true
   },
   "outputs": [
    {
     "name": "stdout",
     "output_type": "stream",
     "text": [
      "2871178\n"
     ]
    }
   ],
   "source": [
    "import pandas as pd\n",
    "import numpy as np\n",
    "df=pd.read_csv('HK CCI vs M3.csv')\n",
    "print(df.iloc[0,3]) #print col_3 value of row_0"
   ]
  },
  {
   "cell_type": "code",
   "execution_count": 9,
   "metadata": {
    "collapsed": true
   },
   "outputs": [
    {
     "name": "stdout",
     "output_type": "stream",
     "text": [
      "   Year  Quarter    CCI    HK mn\n",
      "0  1997        2  99.92  2871178\n"
     ]
    }
   ],
   "source": [
    "import pandas as pd\n",
    "import numpy as np\n",
    "df=pd.read_csv('HK CCI vs M3.csv')\n",
    "print(df.iloc[:1]) #print row_0 to row_1"
   ]
  },
  {
   "cell_type": "code",
   "execution_count": 10,
   "metadata": {
    "collapsed": true
   },
   "outputs": [
    {
     "name": "stdout",
     "output_type": "stream",
     "text": [
      "16104828\n"
     ]
    }
   ],
   "source": [
    "import pandas as pd\n",
    "import numpy as np\n",
    "df=pd.read_csv('HK CCI vs M3.csv')\n",
    "print(df.iloc[97,3]) #print value of row_97,col_3"
   ]
  },
  {
   "cell_type": "code",
   "execution_count": 22,
   "metadata": {
    "collapsed": true
   },
   "outputs": [],
   "source": [
    "import numpy as np\n",
    "import matplotlib.pyplot as plt  #to visualize\n",
    "import pandas as pd  #to read data\n",
    "from sklearn.linear_model import LinearRegression\n",
    "\n",
    "CCI_M3 = pd.read_csv('HK CCI vs M3.csv')\n",
    "x = CCI_M3.iloc[:97,3].values.reshape(-1,1)  #values converts it into a numpy array\n",
    "y = CCI_M3.iloc[:97,2].values.reshape(-1,1)  #-1 means that cal the dimension of rows, but have 1 column\n",
    "\n",
    "linear_regressor = LinearRegression()  #create object for the class\n",
    "linear_regressor.fit(x,y) #perform linear regression\n",
    "y_pred = linear_regressor.predict(x) #make prediction"
   ]
  },
  {
   "cell_type": "code",
   "execution_count": 23,
   "metadata": {},
   "outputs": [
    {
     "data": {
      "image/png": "[encoded data removed]",
      "text/plain": [
       "<Figure size 432x288 with 1 Axes>"
      ]
     },
     "metadata": {
      "needs_background": "light"
     },
     "output_type": "display_data"
    }
   ],
   "source": [
    "import matplotlib.pyplot as plt  #to visualize\n",
    "plt.scatter(x,y)\n",
    "plt.plot(x,y_pred,color='red')\n",
    "plt.grid(which='major', axis='both')\n",
    "plt.title(\"CCI vs M3\")\n",
    "plt.xlabel(\"M3\")\n",
    "plt.ylabel(\"CCI\")\n",
    "plt.show()"
   ]
  },
  {
   "cell_type": "code",
   "execution_count": 5,
   "metadata": {},
   "outputs": [
    {
     "data": {
      "text/html": [
       "<table class=\"simpletable\">\n",
       "<caption>OLS Regression Results</caption>\n",
       "<tr>\n",
       "  <th>Dep. Variable:</th>            <td>y</td>        <th>  R-squared (uncentered):</th>      <td>   0.982</td>\n",
       "</tr>\n",
       "<tr>\n",
       "  <th>Model:</th>                   <td>OLS</td>       <th>  Adj. R-squared (uncentered):</th> <td>   0.981</td>\n",
       "</tr>\n",
       "<tr>\n",
       "  <th>Method:</th>             <td>Least Squares</td>  <th>  F-statistic:       </th>          <td>   5146.</td>\n",
       "</tr>\n",
       "<tr>\n",
       "  <th>Date:</th>             <td>Wed, 12 Jan 2022</td> <th>  Prob (F-statistic):</th>          <td>3.36e-85</td>\n",
       "</tr>\n",
       "<tr>\n",
       "  <th>Time:</th>                 <td>10:19:33</td>     <th>  Log-Likelihood:    </th>          <td> -394.93</td>\n",
       "</tr>\n",
       "<tr>\n",
       "  <th>No. Observations:</th>      <td>    97</td>      <th>  AIC:               </th>          <td>   791.9</td>\n",
       "</tr>\n",
       "<tr>\n",
       "  <th>Df Residuals:</th>          <td>    96</td>      <th>  BIC:               </th>          <td>   794.4</td>\n",
       "</tr>\n",
       "<tr>\n",
       "  <th>Df Model:</th>              <td>     1</td>      <th>                     </th>              <td> </td>   \n",
       "</tr>\n",
       "<tr>\n",
       "  <th>Covariance Type:</th>      <td>nonrobust</td>    <th>                     </th>              <td> </td>   \n",
       "</tr>\n",
       "</table>\n",
       "<table class=\"simpletable\">\n",
       "<tr>\n",
       "   <td></td>     <th>coef</th>     <th>std err</th>      <th>t</th>      <th>P>|t|</th>  <th>[0.025</th>    <th>0.975]</th>  \n",
       "</tr>\n",
       "<tr>\n",
       "  <th>x1</th> <td> 1.182e-05</td> <td> 1.65e-07</td> <td>   71.737</td> <td> 0.000</td> <td> 1.15e-05</td> <td> 1.21e-05</td>\n",
       "</tr>\n",
       "</table>\n",
       "<table class=\"simpletable\">\n",
       "<tr>\n",
       "  <th>Omnibus:</th>       <td>69.779</td> <th>  Durbin-Watson:     </th> <td>   0.141</td>\n",
       "</tr>\n",
       "<tr>\n",
       "  <th>Prob(Omnibus):</th> <td> 0.000</td> <th>  Jarque-Bera (JB):  </th> <td> 342.767</td>\n",
       "</tr>\n",
       "<tr>\n",
       "  <th>Skew:</th>          <td> 2.431</td> <th>  Prob(JB):          </th> <td>3.71e-75</td>\n",
       "</tr>\n",
       "<tr>\n",
       "  <th>Kurtosis:</th>      <td>10.821</td> <th>  Cond. No.          </th> <td>    1.00</td>\n",
       "</tr>\n",
       "</table><br/><br/>Warnings:<br/>[1] Standard Errors assume that the covariance matrix of the errors is correctly specified."
      ],
      "text/plain": [
       "<class 'statsmodels.iolib.summary.Summary'>\n",
       "\"\"\"\n",
       "                                 OLS Regression Results                                \n",
       "=======================================================================================\n",
       "Dep. Variable:                      y   R-squared (uncentered):                   0.982\n",
       "Model:                            OLS   Adj. R-squared (uncentered):              0.981\n",
       "Method:                 Least Squares   F-statistic:                              5146.\n",
       "Date:                Wed, 12 Jan 2022   Prob (F-statistic):                    3.36e-85\n",
       "Time:                        10:19:33   Log-Likelihood:                         -394.93\n",
       "No. Observations:                  97   AIC:                                      791.9\n",
       "Df Residuals:                      96   BIC:                                      794.4\n",
       "Df Model:                           1                                                  \n",
       "Covariance Type:            nonrobust                                                  \n",
       "==============================================================================\n",
       "                 coef    std err          t      P>|t|      [0.025      0.975]\n",
       "------------------------------------------------------------------------------\n",
       "x1          1.182e-05   1.65e-07     71.737      0.000    1.15e-05    1.21e-05\n",
       "==============================================================================\n",
       "Omnibus:                       69.779   Durbin-Watson:                   0.141\n",
       "Prob(Omnibus):                  0.000   Jarque-Bera (JB):              342.767\n",
       "Skew:                           2.431   Prob(JB):                     3.71e-75\n",
       "Kurtosis:                      10.821   Cond. No.                         1.00\n",
       "==============================================================================\n",
       "\n",
       "Warnings:\n",
       "[1] Standard Errors assume that the covariance matrix of the errors is correctly specified.\n",
       "\"\"\""
      ]
     },
     "execution_count": 5,
     "metadata": {},
     "output_type": "execute_result"
    }
   ],
   "source": [
    "import pandas as pd\n",
    "import statsmodels.api as smf\n",
    "CCIM3_data = pd.read_csv('HK CCI vs M3.csv')\n",
    "model=smf.OLS(y, x)\n",
    "result = model.fit()\n",
    "result.summary()"
   ]
  },
  {
   "cell_type": "code",
   "execution_count": 12,
   "metadata": {},
   "outputs": [
    {
     "data": {
      "text/html": [
       "<div>\n",
       "<style scoped>\n",
       "    .dataframe tbody tr th:only-of-type {\n",
       "        vertical-align: middle;\n",
       "    }\n",
       "\n",
       "    .dataframe tbody tr th {\n",
       "        vertical-align: top;\n",
       "    }\n",
       "\n",
       "    .dataframe thead th {\n",
       "        text-align: right;\n",
       "    }\n",
       "</style>\n",
       "<table border=\"1\" class=\"dataframe\">\n",
       "  <thead>\n",
       "    <tr style=\"text-align: right;\">\n",
       "      <th></th>\n",
       "      <th>Year/Period</th>\n",
       "      <th>CCI</th>\n",
       "      <th>U%^-1</th>\n",
       "    </tr>\n",
       "  </thead>\n",
       "  <tbody>\n",
       "    <tr>\n",
       "      <th>0</th>\n",
       "      <td>1/1994 - 3/1994</td>\n",
       "      <td>70.74</td>\n",
       "      <td>0.53</td>\n",
       "    </tr>\n",
       "    <tr>\n",
       "      <th>1</th>\n",
       "      <td>4/1994 - 6/1994</td>\n",
       "      <td>69.32</td>\n",
       "      <td>0.67</td>\n",
       "    </tr>\n",
       "    <tr>\n",
       "      <th>2</th>\n",
       "      <td>7/1994 - 9/1994</td>\n",
       "      <td>67.31</td>\n",
       "      <td>0.43</td>\n",
       "    </tr>\n",
       "    <tr>\n",
       "      <th>3</th>\n",
       "      <td>10/1994 - 12/1994</td>\n",
       "      <td>63.35</td>\n",
       "      <td>0.50</td>\n",
       "    </tr>\n",
       "    <tr>\n",
       "      <th>4</th>\n",
       "      <td>1/1995 - 3/1995</td>\n",
       "      <td>61.85</td>\n",
       "      <td>0.40</td>\n",
       "    </tr>\n",
       "    <tr>\n",
       "      <th>...</th>\n",
       "      <td>...</td>\n",
       "      <td>...</td>\n",
       "      <td>...</td>\n",
       "    </tr>\n",
       "    <tr>\n",
       "      <th>106</th>\n",
       "      <td>7/2020 - 9/2020</td>\n",
       "      <td>174.40</td>\n",
       "      <td>0.16</td>\n",
       "    </tr>\n",
       "    <tr>\n",
       "      <th>107</th>\n",
       "      <td>10/2020 - 12/2020</td>\n",
       "      <td>174.11</td>\n",
       "      <td>0.15</td>\n",
       "    </tr>\n",
       "    <tr>\n",
       "      <th>108</th>\n",
       "      <td>1/2021 - 3/2021</td>\n",
       "      <td>177.49</td>\n",
       "      <td>0.15</td>\n",
       "    </tr>\n",
       "    <tr>\n",
       "      <th>109</th>\n",
       "      <td>4/2021 - 6/2021</td>\n",
       "      <td>183.15</td>\n",
       "      <td>0.18</td>\n",
       "    </tr>\n",
       "    <tr>\n",
       "      <th>110</th>\n",
       "      <td>7/2021 - 9/2021</td>\n",
       "      <td>185.62</td>\n",
       "      <td>0.22</td>\n",
       "    </tr>\n",
       "  </tbody>\n",
       "</table>\n",
       "<p>111 rows × 3 columns</p>\n",
       "</div>"
      ],
      "text/plain": [
       "           Year/Period     CCI  U%^-1\n",
       "0      1/1994 - 3/1994   70.74   0.53\n",
       "1      4/1994 - 6/1994   69.32   0.67\n",
       "2      7/1994 - 9/1994   67.31   0.43\n",
       "3    10/1994 - 12/1994   63.35   0.50\n",
       "4      1/1995 - 3/1995   61.85   0.40\n",
       "..                 ...     ...    ...\n",
       "106    7/2020 - 9/2020  174.40   0.16\n",
       "107  10/2020 - 12/2020  174.11   0.15\n",
       "108    1/2021 - 3/2021  177.49   0.15\n",
       "109    4/2021 - 6/2021  183.15   0.18\n",
       "110    7/2021 - 9/2021  185.62   0.22\n",
       "\n",
       "[111 rows x 3 columns]"
      ]
     },
     "execution_count": 12,
     "metadata": {},
     "output_type": "execute_result"
    }
   ],
   "source": [
    "import pandas as pd\n",
    "CCI_U = pd.read_csv('HK CCI vs U.csv')\n",
    "CCI_U"
   ]
  },
  {
   "cell_type": "code",
   "execution_count": 13,
   "metadata": {},
   "outputs": [
    {
     "name": "stdout",
     "output_type": "stream",
     "text": [
      "0.22\n"
     ]
    }
   ],
   "source": [
    "import pandas as pd\n",
    "import numpy as np\n",
    "df=pd.read_csv('HK CCI vs U.csv')\n",
    "print(df.iloc[110,2])"
   ]
  },
  {
   "cell_type": "code",
   "execution_count": 31,
   "metadata": {},
   "outputs": [
    {
     "data": {
      "image/png": "[encoded data removed]",
      "text/plain": [
       "<Figure size 432x288 with 1 Axes>"
      ]
     },
     "metadata": {
      "needs_background": "light"
     },
     "output_type": "display_data"
    }
   ],
   "source": [
    "import pandas as pd\n",
    "import numpy as np\n",
    "import matplotlib.pyplot as plt\n",
    "from sklearn.linear_model import LinearRegression\n",
    "\n",
    "CCI_U = pd.read_csv('HK CCI vs U.csv')\n",
    "x2 = CCI_U.iloc[:110,2].values.reshape(-1,1)\n",
    "y2 = CCI_U.iloc[:110,1].values.reshape(-1,1)\n",
    "\n",
    "linear_regressor2 = LinearRegression()  #create object for the class\n",
    "linear_regressor2.fit(x2,y2) #perform linear regression\n",
    "y_pred2 = linear_regressor2.predict(x2) #make prediction\n",
    "\n",
    "plt.scatter(x2,y2)\n",
    "plt.plot(x2,y_pred2,color='red')\n",
    "plt.grid(which='major', axis='both')\n",
    "plt.title(\"CCI vs U%^-1\")\n",
    "plt.xlabel(\"U%^-1\")\n",
    "plt.ylabel(\"CCI\")\n",
    "plt.show()"
   ]
  },
  {
   "cell_type": "code",
   "execution_count": 37,
   "metadata": {},
   "outputs": [
    {
     "data": {
      "text/html": [
       "<table class=\"simpletable\">\n",
       "<caption>OLS Regression Results</caption>\n",
       "<tr>\n",
       "  <th>Dep. Variable:</th>            <td>y</td>        <th>  R-squared (uncentered):</th>      <td>   0.788</td>\n",
       "</tr>\n",
       "<tr>\n",
       "  <th>Model:</th>                   <td>OLS</td>       <th>  Adj. R-squared (uncentered):</th> <td>   0.786</td>\n",
       "</tr>\n",
       "<tr>\n",
       "  <th>Method:</th>             <td>Least Squares</td>  <th>  F-statistic:       </th>          <td>   405.1</td>\n",
       "</tr>\n",
       "<tr>\n",
       "  <th>Date:</th>             <td>Wed, 12 Jan 2022</td> <th>  Prob (F-statistic):</th>          <td>1.67e-38</td>\n",
       "</tr>\n",
       "<tr>\n",
       "  <th>Time:</th>                 <td>17:40:27</td>     <th>  Log-Likelihood:    </th>          <td> -578.56</td>\n",
       "</tr>\n",
       "<tr>\n",
       "  <th>No. Observations:</th>      <td>   110</td>      <th>  AIC:               </th>          <td>   1159.</td>\n",
       "</tr>\n",
       "<tr>\n",
       "  <th>Df Residuals:</th>          <td>   109</td>      <th>  BIC:               </th>          <td>   1162.</td>\n",
       "</tr>\n",
       "<tr>\n",
       "  <th>Df Model:</th>              <td>     1</td>      <th>                     </th>              <td> </td>   \n",
       "</tr>\n",
       "<tr>\n",
       "  <th>Covariance Type:</th>      <td>nonrobust</td>    <th>                     </th>              <td> </td>   \n",
       "</tr>\n",
       "</table>\n",
       "<table class=\"simpletable\">\n",
       "<tr>\n",
       "   <td></td>     <th>coef</th>     <th>std err</th>      <th>t</th>      <th>P>|t|</th>  <th>[0.025</th>    <th>0.975]</th>  \n",
       "</tr>\n",
       "<tr>\n",
       "  <th>x1</th> <td>  318.1070</td> <td>   15.806</td> <td>   20.126</td> <td> 0.000</td> <td>  286.781</td> <td>  349.433</td>\n",
       "</tr>\n",
       "</table>\n",
       "<table class=\"simpletable\">\n",
       "<tr>\n",
       "  <th>Omnibus:</th>       <td> 7.669</td> <th>  Durbin-Watson:     </th> <td>   0.067</td>\n",
       "</tr>\n",
       "<tr>\n",
       "  <th>Prob(Omnibus):</th> <td> 0.022</td> <th>  Jarque-Bera (JB):  </th> <td>  10.012</td>\n",
       "</tr>\n",
       "<tr>\n",
       "  <th>Skew:</th>          <td> 0.350</td> <th>  Prob(JB):          </th> <td> 0.00670</td>\n",
       "</tr>\n",
       "<tr>\n",
       "  <th>Kurtosis:</th>      <td> 4.302</td> <th>  Cond. No.          </th> <td>    1.00</td>\n",
       "</tr>\n",
       "</table><br/><br/>Warnings:<br/>[1] Standard Errors assume that the covariance matrix of the errors is correctly specified."
      ],
      "text/plain": [
       "<class 'statsmodels.iolib.summary.Summary'>\n",
       "\"\"\"\n",
       "                                 OLS Regression Results                                \n",
       "=======================================================================================\n",
       "Dep. Variable:                      y   R-squared (uncentered):                   0.788\n",
       "Model:                            OLS   Adj. R-squared (uncentered):              0.786\n",
       "Method:                 Least Squares   F-statistic:                              405.1\n",
       "Date:                Wed, 12 Jan 2022   Prob (F-statistic):                    1.67e-38\n",
       "Time:                        17:40:27   Log-Likelihood:                         -578.56\n",
       "No. Observations:                 110   AIC:                                      1159.\n",
       "Df Residuals:                     109   BIC:                                      1162.\n",
       "Df Model:                           1                                                  \n",
       "Covariance Type:            nonrobust                                                  \n",
       "==============================================================================\n",
       "                 coef    std err          t      P>|t|      [0.025      0.975]\n",
       "------------------------------------------------------------------------------\n",
       "x1           318.1070     15.806     20.126      0.000     286.781     349.433\n",
       "==============================================================================\n",
       "Omnibus:                        7.669   Durbin-Watson:                   0.067\n",
       "Prob(Omnibus):                  0.022   Jarque-Bera (JB):               10.012\n",
       "Skew:                           0.350   Prob(JB):                      0.00670\n",
       "Kurtosis:                       4.302   Cond. No.                         1.00\n",
       "==============================================================================\n",
       "\n",
       "Warnings:\n",
       "[1] Standard Errors assume that the covariance matrix of the errors is correctly specified.\n",
       "\"\"\""
      ]
     },
     "execution_count": 37,
     "metadata": {},
     "output_type": "execute_result"
    }
   ],
   "source": [
    "import pandas as pd\n",
    "import statsmodels.api as smf\n",
    "CCI_U = pd.read_csv('HK CCI vs U.csv')\n",
    "\n",
    "model2 = smf.OLS(y2,x2)\n",
    "result2 = model2.fit()\n",
    "result2.summary()"
   ]
  },
  {
   "cell_type": "code",
   "execution_count": 24,
   "metadata": {
    "scrolled": true
   },
   "outputs": [
    {
     "data": {
      "text/html": [
       "<div>\n",
       "<style scoped>\n",
       "    .dataframe tbody tr th:only-of-type {\n",
       "        vertical-align: middle;\n",
       "    }\n",
       "\n",
       "    .dataframe tbody tr th {\n",
       "        vertical-align: top;\n",
       "    }\n",
       "\n",
       "    .dataframe thead th {\n",
       "        text-align: right;\n",
       "    }\n",
       "</style>\n",
       "<table border=\"1\" class=\"dataframe\">\n",
       "  <thead>\n",
       "    <tr style=\"text-align: right;\">\n",
       "      <th></th>\n",
       "      <th>Year</th>\n",
       "      <th>Quarter</th>\n",
       "      <th>CCI</th>\n",
       "      <th>M3 \\nHK$ mn</th>\n",
       "      <th>U% ^-1</th>\n",
       "      <th>New Indicator</th>\n",
       "    </tr>\n",
       "  </thead>\n",
       "  <tbody>\n",
       "    <tr>\n",
       "      <th>0</th>\n",
       "      <td>1997</td>\n",
       "      <td>2</td>\n",
       "      <td>99.92</td>\n",
       "      <td>2871178</td>\n",
       "      <td>0.454545</td>\n",
       "      <td>1305.080909</td>\n",
       "    </tr>\n",
       "    <tr>\n",
       "      <th>1</th>\n",
       "      <td>1997</td>\n",
       "      <td>3</td>\n",
       "      <td>98.13</td>\n",
       "      <td>2933342</td>\n",
       "      <td>0.476190</td>\n",
       "      <td>1396.829524</td>\n",
       "    </tr>\n",
       "    <tr>\n",
       "      <th>2</th>\n",
       "      <td>1997</td>\n",
       "      <td>4</td>\n",
       "      <td>86.24</td>\n",
       "      <td>2871425</td>\n",
       "      <td>0.454545</td>\n",
       "      <td>1305.193182</td>\n",
       "    </tr>\n",
       "    <tr>\n",
       "      <th>3</th>\n",
       "      <td>1998</td>\n",
       "      <td>1</td>\n",
       "      <td>74.96</td>\n",
       "      <td>2943150</td>\n",
       "      <td>0.303030</td>\n",
       "      <td>891.863636</td>\n",
       "    </tr>\n",
       "    <tr>\n",
       "      <th>4</th>\n",
       "      <td>1998</td>\n",
       "      <td>2</td>\n",
       "      <td>58.62</td>\n",
       "      <td>2908121</td>\n",
       "      <td>0.232558</td>\n",
       "      <td>676.307209</td>\n",
       "    </tr>\n",
       "    <tr>\n",
       "      <th>...</th>\n",
       "      <td>...</td>\n",
       "      <td>...</td>\n",
       "      <td>...</td>\n",
       "      <td>...</td>\n",
       "      <td>...</td>\n",
       "      <td>...</td>\n",
       "    </tr>\n",
       "    <tr>\n",
       "      <th>93</th>\n",
       "      <td>2020</td>\n",
       "      <td>3</td>\n",
       "      <td>174.40</td>\n",
       "      <td>15883405</td>\n",
       "      <td>0.158730</td>\n",
       "      <td>2521.175397</td>\n",
       "    </tr>\n",
       "    <tr>\n",
       "      <th>94</th>\n",
       "      <td>2020</td>\n",
       "      <td>4</td>\n",
       "      <td>174.11</td>\n",
       "      <td>15644043</td>\n",
       "      <td>0.153846</td>\n",
       "      <td>2406.775846</td>\n",
       "    </tr>\n",
       "    <tr>\n",
       "      <th>95</th>\n",
       "      <td>2021</td>\n",
       "      <td>1</td>\n",
       "      <td>177.49</td>\n",
       "      <td>15797352</td>\n",
       "      <td>0.147059</td>\n",
       "      <td>2323.140000</td>\n",
       "    </tr>\n",
       "    <tr>\n",
       "      <th>96</th>\n",
       "      <td>2021</td>\n",
       "      <td>2</td>\n",
       "      <td>183.15</td>\n",
       "      <td>16270817</td>\n",
       "      <td>0.181818</td>\n",
       "      <td>2958.330364</td>\n",
       "    </tr>\n",
       "    <tr>\n",
       "      <th>97</th>\n",
       "      <td>2021</td>\n",
       "      <td>3</td>\n",
       "      <td>185.62</td>\n",
       "      <td>16104828</td>\n",
       "      <td>0.222222</td>\n",
       "      <td>3578.850667</td>\n",
       "    </tr>\n",
       "  </tbody>\n",
       "</table>\n",
       "<p>98 rows × 6 columns</p>\n",
       "</div>"
      ],
      "text/plain": [
       "    Year  Quarter     CCI  M3 \\nHK$ mn    U% ^-1  New Indicator\n",
       "0   1997        2   99.92      2871178  0.454545    1305.080909\n",
       "1   1997        3   98.13      2933342  0.476190    1396.829524\n",
       "2   1997        4   86.24      2871425  0.454545    1305.193182\n",
       "3   1998        1   74.96      2943150  0.303030     891.863636\n",
       "4   1998        2   58.62      2908121  0.232558     676.307209\n",
       "..   ...      ...     ...          ...       ...            ...\n",
       "93  2020        3  174.40     15883405  0.158730    2521.175397\n",
       "94  2020        4  174.11     15644043  0.153846    2406.775846\n",
       "95  2021        1  177.49     15797352  0.147059    2323.140000\n",
       "96  2021        2  183.15     16270817  0.181818    2958.330364\n",
       "97  2021        3  185.62     16104828  0.222222    3578.850667\n",
       "\n",
       "[98 rows x 6 columns]"
      ]
     },
     "execution_count": 24,
     "metadata": {},
     "output_type": "execute_result"
    }
   ],
   "source": [
    "import pandas as pd\n",
    "CCI_NewIndicator = pd.read_csv('HK CCI vs NewIn.csv')\n",
    "CCI_NewIndicator"
   ]
  },
  {
   "cell_type": "code",
   "execution_count": 26,
   "metadata": {},
   "outputs": [
    {
     "name": "stdout",
     "output_type": "stream",
     "text": [
      "185.62\n"
     ]
    }
   ],
   "source": [
    "import pandas as pd\n",
    "import numpy as np\n",
    "df=pd.read_csv('HK CCI vs NewIn.csv')\n",
    "print(df.iloc[97,2])"
   ]
  },
  {
   "cell_type": "code",
   "execution_count": 35,
   "metadata": {
    "scrolled": true
   },
   "outputs": [
    {
     "data": {
      "image/png": "[encoded data removed]",
      "text/plain": [
       "<Figure size 432x288 with 1 Axes>"
      ]
     },
     "metadata": {
      "needs_background": "light"
     },
     "output_type": "display_data"
    }
   ],
   "source": [
    "import pandas as pd\n",
    "import numpy as np\n",
    "import matplotlib.pyplot as plt\n",
    "from sklearn.linear_model import LinearRegression\n",
    "\n",
    "CCI_NewIndicator = pd.read_csv('HK CCI vs NewIn.csv')\n",
    "x3 = CCI_NewIndicator.iloc[:97,5].values.reshape(-1,1)\n",
    "y3 = CCI_NewIndicator.iloc[:97,2].values.reshape(-1,1)\n",
    "\n",
    "linear_regressor3 = LinearRegression()  #create object for the class\n",
    "linear_regressor3.fit(x3,y3) #perform linear regression\n",
    "y_pred3 = linear_regressor3.predict(x3) #make prediction\n",
    "\n",
    "plt.scatter(x3,y3)\n",
    "plt.plot(x3,y_pred3,color='red')\n",
    "plt.grid(which='major', axis='both')\n",
    "plt.title(\"CCI vs New Indicator\")\n",
    "plt.xlabel(\"M3 * U%^-1\")\n",
    "plt.ylabel(\"CCI\")\n",
    "plt.show()"
   ]
  },
  {
   "cell_type": "code",
   "execution_count": 28,
   "metadata": {},
   "outputs": [
    {
     "data": {
      "text/html": [
       "<table class=\"simpletable\">\n",
       "<caption>OLS Regression Results</caption>\n",
       "<tr>\n",
       "  <th>Dep. Variable:</th>            <td>y</td>        <th>  R-squared (uncentered):</th>      <td>   0.940</td>\n",
       "</tr>\n",
       "<tr>\n",
       "  <th>Model:</th>                   <td>OLS</td>       <th>  Adj. R-squared (uncentered):</th> <td>   0.939</td>\n",
       "</tr>\n",
       "<tr>\n",
       "  <th>Method:</th>             <td>Least Squares</td>  <th>  F-statistic:       </th>          <td>   1505.</td>\n",
       "</tr>\n",
       "<tr>\n",
       "  <th>Date:</th>             <td>Wed, 12 Jan 2022</td> <th>  Prob (F-statistic):</th>          <td>1.84e-60</td>\n",
       "</tr>\n",
       "<tr>\n",
       "  <th>Time:</th>                 <td>15:30:37</td>     <th>  Log-Likelihood:    </th>          <td> -452.47</td>\n",
       "</tr>\n",
       "<tr>\n",
       "  <th>No. Observations:</th>      <td>    97</td>      <th>  AIC:               </th>          <td>   906.9</td>\n",
       "</tr>\n",
       "<tr>\n",
       "  <th>Df Residuals:</th>          <td>    96</td>      <th>  BIC:               </th>          <td>   909.5</td>\n",
       "</tr>\n",
       "<tr>\n",
       "  <th>Df Model:</th>              <td>     1</td>      <th>                     </th>              <td> </td>   \n",
       "</tr>\n",
       "<tr>\n",
       "  <th>Covariance Type:</th>      <td>nonrobust</td>    <th>                     </th>              <td> </td>   \n",
       "</tr>\n",
       "</table>\n",
       "<table class=\"simpletable\">\n",
       "<tr>\n",
       "   <td></td>     <th>coef</th>     <th>std err</th>      <th>t</th>      <th>P>|t|</th>  <th>[0.025</th>    <th>0.975]</th>  \n",
       "</tr>\n",
       "<tr>\n",
       "  <th>x1</th> <td>    0.0408</td> <td>    0.001</td> <td>   38.791</td> <td> 0.000</td> <td>    0.039</td> <td>    0.043</td>\n",
       "</tr>\n",
       "</table>\n",
       "<table class=\"simpletable\">\n",
       "<tr>\n",
       "  <th>Omnibus:</th>       <td>10.131</td> <th>  Durbin-Watson:     </th> <td>   0.116</td>\n",
       "</tr>\n",
       "<tr>\n",
       "  <th>Prob(Omnibus):</th> <td> 0.006</td> <th>  Jarque-Bera (JB):  </th> <td>  10.859</td>\n",
       "</tr>\n",
       "<tr>\n",
       "  <th>Skew:</th>          <td> 0.627</td> <th>  Prob(JB):          </th> <td> 0.00438</td>\n",
       "</tr>\n",
       "<tr>\n",
       "  <th>Kurtosis:</th>      <td> 4.055</td> <th>  Cond. No.          </th> <td>    1.00</td>\n",
       "</tr>\n",
       "</table><br/><br/>Warnings:<br/>[1] Standard Errors assume that the covariance matrix of the errors is correctly specified."
      ],
      "text/plain": [
       "<class 'statsmodels.iolib.summary.Summary'>\n",
       "\"\"\"\n",
       "                                 OLS Regression Results                                \n",
       "=======================================================================================\n",
       "Dep. Variable:                      y   R-squared (uncentered):                   0.940\n",
       "Model:                            OLS   Adj. R-squared (uncentered):              0.939\n",
       "Method:                 Least Squares   F-statistic:                              1505.\n",
       "Date:                Wed, 12 Jan 2022   Prob (F-statistic):                    1.84e-60\n",
       "Time:                        15:30:37   Log-Likelihood:                         -452.47\n",
       "No. Observations:                  97   AIC:                                      906.9\n",
       "Df Residuals:                      96   BIC:                                      909.5\n",
       "Df Model:                           1                                                  \n",
       "Covariance Type:            nonrobust                                                  \n",
       "==============================================================================\n",
       "                 coef    std err          t      P>|t|      [0.025      0.975]\n",
       "------------------------------------------------------------------------------\n",
       "x1             0.0408      0.001     38.791      0.000       0.039       0.043\n",
       "==============================================================================\n",
       "Omnibus:                       10.131   Durbin-Watson:                   0.116\n",
       "Prob(Omnibus):                  0.006   Jarque-Bera (JB):               10.859\n",
       "Skew:                           0.627   Prob(JB):                      0.00438\n",
       "Kurtosis:                       4.055   Cond. No.                         1.00\n",
       "==============================================================================\n",
       "\n",
       "Warnings:\n",
       "[1] Standard Errors assume that the covariance matrix of the errors is correctly specified.\n",
       "\"\"\""
      ]
     },
     "execution_count": 28,
     "metadata": {},
     "output_type": "execute_result"
    }
   ],
   "source": [
    "import pandas as pd\n",
    "import statsmodels.api as smf\n",
    "CCI_NewIndicator = pd.read_csv('HK CCI vs NewIn.csv')\n",
    "\n",
    "model3 = smf.OLS(y3,x3)\n",
    "result3 = model3.fit()\n",
    "result3.summary()"
   ]
  }
 ],
 "metadata": {
  "kernelspec": {
   "display_name": "Python 3 (ipykernel)",
   "language": "python",
   "name": "python3"
  },
  "language_info": {
   "codemirror_mode": {
    "name": "ipython",
    "version": 3
   },
   "file_extension": ".py",
   "mimetype": "text/x-python",
   "name": "python",
   "nbconvert_exporter": "python",
   "pygments_lexer": "ipython3",
   "version": "3.9.7"
  }
 },
 "nbformat": 4,
 "nbformat_minor": 4
}
